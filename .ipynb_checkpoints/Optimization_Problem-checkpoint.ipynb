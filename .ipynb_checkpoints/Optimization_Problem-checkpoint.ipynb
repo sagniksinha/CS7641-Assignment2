{
 "cells": [
  {
   "cell_type": "code",
   "execution_count": 1,
   "id": "5a35dcdf",
   "metadata": {},
   "outputs": [],
   "source": [
    "%run Base_with_funtions.ipynb"
   ]
  },
  {
   "cell_type": "code",
   "execution_count": null,
   "id": "6c937952",
   "metadata": {},
   "outputs": [
    {
     "name": "stdout",
     "output_type": "stream",
     "text": [
      "10\n",
      "20\n"
     ]
    }
   ],
   "source": [
    "fitness = mlrose.FourPeaks(t_pct=.1)\n",
    "RHC,RHC_curve,GA,GA_curve,SA,SA_curve,MIMIC,MIMIC_curve = fuction_runner(fitness)\n",
    "FittnessVsIterations_plotter(RHC_curve,GA_curve,SA_curve,MIMIC_curve,title=\"Fitness Value vs Iterations\\n(Four Peaks)\",h1 ='C:/Users/sagni/Documents/Personal Files/CS7641/Assignment2/Images/FitnessVsIterations_FourPeaks.png')\n",
    "FittnessVsProblemSize_plotter(RHC,GA,SA,MIMIC,title=\"Fitness Value vs Problem Size\\n(Four Peaks)\",h1 ='C:/Users/sagni/Documents/Personal Files/CS7641/Assignment2/Images/FitnessVsProblemSize_FourPeaks.png')\n",
    "FevalVsProblemSize_plotter(RHC,GA,SA,MIMIC,title=\"Funtion Evaluations vs Problem Size\\n(Four Peaks)\",h1 ='C:/Users/sagni/Documents/Personal Files/CS7641/Assignment2/Images/FuntionEvaluationsVsProblemSize_FourPeaks.png')\n",
    "TimeTakenVsProblemSize_plotter(RHC,GA,SA,MIMIC,title=\"Time Taken vs Problem Size\\n(Four Peaks)\",h1 ='C:/Users/sagni/Documents/Personal Files/CS7641/Assignment2/Images/TimeTakenVsProblemSize_FourPeaks.png')"
   ]
  }
 ],
 "metadata": {
  "kernelspec": {
   "display_name": "Python 3",
   "language": "python",
   "name": "python3"
  },
  "language_info": {
   "codemirror_mode": {
    "name": "ipython",
    "version": 3
   },
   "file_extension": ".py",
   "mimetype": "text/x-python",
   "name": "python",
   "nbconvert_exporter": "python",
   "pygments_lexer": "ipython3",
   "version": "3.6.13"
  }
 },
 "nbformat": 4,
 "nbformat_minor": 5
}
